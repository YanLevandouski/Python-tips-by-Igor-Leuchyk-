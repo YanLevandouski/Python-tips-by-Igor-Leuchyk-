{
 "cells": [
  {
   "cell_type": "code",
   "execution_count": 14,
   "id": "e7eb3283",
   "metadata": {},
   "outputs": [
    {
     "data": {
      "text/html": [
       "<div>\n",
       "<style scoped>\n",
       "    .dataframe tbody tr th:only-of-type {\n",
       "        vertical-align: middle;\n",
       "    }\n",
       "\n",
       "    .dataframe tbody tr th {\n",
       "        vertical-align: top;\n",
       "    }\n",
       "\n",
       "    .dataframe thead th {\n",
       "        text-align: right;\n",
       "    }\n",
       "</style>\n",
       "<table border=\"1\" class=\"dataframe\">\n",
       "  <thead>\n",
       "    <tr style=\"text-align: right;\">\n",
       "      <th></th>\n",
       "      <th>sepal_length</th>\n",
       "      <th>sepal_width</th>\n",
       "      <th>petal_length</th>\n",
       "      <th>petal_width</th>\n",
       "      <th>species</th>\n",
       "    </tr>\n",
       "  </thead>\n",
       "  <tbody>\n",
       "    <tr>\n",
       "      <th>0</th>\n",
       "      <td>6.40</td>\n",
       "      <td>2.70</td>\n",
       "      <td>5.30</td>\n",
       "      <td>1.90</td>\n",
       "      <td>Iris-virginica</td>\n",
       "    </tr>\n",
       "    <tr>\n",
       "      <th>1</th>\n",
       "      <td>7.38</td>\n",
       "      <td>4.04</td>\n",
       "      <td>5.15</td>\n",
       "      <td>2.37</td>\n",
       "      <td>Iris-versicolor</td>\n",
       "    </tr>\n",
       "    <tr>\n",
       "      <th>2</th>\n",
       "      <td>5.00</td>\n",
       "      <td>3.40</td>\n",
       "      <td>1.60</td>\n",
       "      <td>0.40</td>\n",
       "      <td>Iris-setosa</td>\n",
       "    </tr>\n",
       "    <tr>\n",
       "      <th>3</th>\n",
       "      <td>6.12</td>\n",
       "      <td>3.19</td>\n",
       "      <td>5.90</td>\n",
       "      <td>2.01</td>\n",
       "      <td>Iris-virginica</td>\n",
       "    </tr>\n",
       "    <tr>\n",
       "      <th>4</th>\n",
       "      <td>6.78</td>\n",
       "      <td>3.47</td>\n",
       "      <td>6.13</td>\n",
       "      <td>2.29</td>\n",
       "      <td>Iris-virginica</td>\n",
       "    </tr>\n",
       "    <tr>\n",
       "      <th>...</th>\n",
       "      <td>...</td>\n",
       "      <td>...</td>\n",
       "      <td>...</td>\n",
       "      <td>...</td>\n",
       "      <td>...</td>\n",
       "    </tr>\n",
       "    <tr>\n",
       "      <th>2419</th>\n",
       "      <td>6.11</td>\n",
       "      <td>5.08</td>\n",
       "      <td>3.15</td>\n",
       "      <td>2.22</td>\n",
       "      <td>Iris-setosa</td>\n",
       "    </tr>\n",
       "    <tr>\n",
       "      <th>2420</th>\n",
       "      <td>7.17</td>\n",
       "      <td>6.07</td>\n",
       "      <td>4.30</td>\n",
       "      <td>1.78</td>\n",
       "      <td>Iris-setosa</td>\n",
       "    </tr>\n",
       "    <tr>\n",
       "      <th>2421</th>\n",
       "      <td>6.48</td>\n",
       "      <td>4.98</td>\n",
       "      <td>4.12</td>\n",
       "      <td>3.03</td>\n",
       "      <td>Iris-setosa</td>\n",
       "    </tr>\n",
       "    <tr>\n",
       "      <th>2422</th>\n",
       "      <td>6.73</td>\n",
       "      <td>4.71</td>\n",
       "      <td>3.67</td>\n",
       "      <td>2.90</td>\n",
       "      <td>Iris-setosa</td>\n",
       "    </tr>\n",
       "    <tr>\n",
       "      <th>2423</th>\n",
       "      <td>0.00</td>\n",
       "      <td>0.00</td>\n",
       "      <td>0.00</td>\n",
       "      <td>0.00</td>\n",
       "      <td>Iris-virginica</td>\n",
       "    </tr>\n",
       "  </tbody>\n",
       "</table>\n",
       "<p>2424 rows × 5 columns</p>\n",
       "</div>"
      ],
      "text/plain": [
       "      sepal_length  sepal_width  petal_length  petal_width          species\n",
       "0             6.40         2.70          5.30         1.90   Iris-virginica\n",
       "1             7.38         4.04          5.15         2.37  Iris-versicolor\n",
       "2             5.00         3.40          1.60         0.40      Iris-setosa\n",
       "3             6.12         3.19          5.90         2.01   Iris-virginica\n",
       "4             6.78         3.47          6.13         2.29   Iris-virginica\n",
       "...            ...          ...           ...          ...              ...\n",
       "2419          6.11         5.08          3.15         2.22      Iris-setosa\n",
       "2420          7.17         6.07          4.30         1.78      Iris-setosa\n",
       "2421          6.48         4.98          4.12         3.03      Iris-setosa\n",
       "2422          6.73         4.71          3.67         2.90      Iris-setosa\n",
       "2423          0.00         0.00          0.00         0.00   Iris-virginica\n",
       "\n",
       "[2424 rows x 5 columns]"
      ]
     },
     "execution_count": 14,
     "metadata": {},
     "output_type": "execute_result"
    }
   ],
   "source": [
    "import pandas as pd\n",
    "df = pd.read_excel (r'C:\\Users\\Igor_Leuchyk\\Desktop\\Useful_materials\\Personal\\RD_DS\\DFs\\data.xls')\n",
    "df"
   ]
  },
  {
   "cell_type": "code",
   "execution_count": 15,
   "id": "3902e38f",
   "metadata": {},
   "outputs": [
    {
     "data": {
      "text/html": [
       "<div>\n",
       "<style scoped>\n",
       "    .dataframe tbody tr th:only-of-type {\n",
       "        vertical-align: middle;\n",
       "    }\n",
       "\n",
       "    .dataframe tbody tr th {\n",
       "        vertical-align: top;\n",
       "    }\n",
       "\n",
       "    .dataframe thead th {\n",
       "        text-align: right;\n",
       "    }\n",
       "</style>\n",
       "<table border=\"1\" class=\"dataframe\">\n",
       "  <thead>\n",
       "    <tr style=\"text-align: right;\">\n",
       "      <th></th>\n",
       "      <th>sepal_length</th>\n",
       "      <th>sepal_width</th>\n",
       "      <th>petal_length</th>\n",
       "      <th>petal_width</th>\n",
       "    </tr>\n",
       "  </thead>\n",
       "  <tbody>\n",
       "    <tr>\n",
       "      <th>count</th>\n",
       "      <td>2415.000000</td>\n",
       "      <td>2415.000000</td>\n",
       "      <td>2415.000000</td>\n",
       "      <td>2415.000000</td>\n",
       "    </tr>\n",
       "    <tr>\n",
       "      <th>mean</th>\n",
       "      <td>6.470257</td>\n",
       "      <td>3.963540</td>\n",
       "      <td>4.616911</td>\n",
       "      <td>2.189752</td>\n",
       "    </tr>\n",
       "    <tr>\n",
       "      <th>std</th>\n",
       "      <td>2.140522</td>\n",
       "      <td>1.022686</td>\n",
       "      <td>1.987028</td>\n",
       "      <td>1.046936</td>\n",
       "    </tr>\n",
       "    <tr>\n",
       "      <th>min</th>\n",
       "      <td>-10.000000</td>\n",
       "      <td>0.000000</td>\n",
       "      <td>0.000000</td>\n",
       "      <td>0.000000</td>\n",
       "    </tr>\n",
       "    <tr>\n",
       "      <th>25%</th>\n",
       "      <td>5.950000</td>\n",
       "      <td>3.450000</td>\n",
       "      <td>2.780000</td>\n",
       "      <td>1.460000</td>\n",
       "    </tr>\n",
       "    <tr>\n",
       "      <th>50%</th>\n",
       "      <td>6.700000</td>\n",
       "      <td>4.000000</td>\n",
       "      <td>5.090000</td>\n",
       "      <td>2.240000</td>\n",
       "    </tr>\n",
       "    <tr>\n",
       "      <th>75%</th>\n",
       "      <td>7.490000</td>\n",
       "      <td>4.580000</td>\n",
       "      <td>6.150000</td>\n",
       "      <td>2.940000</td>\n",
       "    </tr>\n",
       "    <tr>\n",
       "      <th>max</th>\n",
       "      <td>10.490000</td>\n",
       "      <td>7.470000</td>\n",
       "      <td>9.040000</td>\n",
       "      <td>5.440000</td>\n",
       "    </tr>\n",
       "  </tbody>\n",
       "</table>\n",
       "</div>"
      ],
      "text/plain": [
       "       sepal_length  sepal_width  petal_length  petal_width\n",
       "count   2415.000000  2415.000000   2415.000000  2415.000000\n",
       "mean       6.470257     3.963540      4.616911     2.189752\n",
       "std        2.140522     1.022686      1.987028     1.046936\n",
       "min      -10.000000     0.000000      0.000000     0.000000\n",
       "25%        5.950000     3.450000      2.780000     1.460000\n",
       "50%        6.700000     4.000000      5.090000     2.240000\n",
       "75%        7.490000     4.580000      6.150000     2.940000\n",
       "max       10.490000     7.470000      9.040000     5.440000"
      ]
     },
     "execution_count": 15,
     "metadata": {},
     "output_type": "execute_result"
    }
   ],
   "source": [
    "df.describe()"
   ]
  },
  {
   "cell_type": "code",
   "execution_count": 16,
   "id": "d7872292",
   "metadata": {},
   "outputs": [
    {
     "data": {
      "text/plain": [
       "sepal_length    9\n",
       "sepal_width     9\n",
       "petal_length    9\n",
       "petal_width     9\n",
       "species         0\n",
       "dtype: int64"
      ]
     },
     "execution_count": 16,
     "metadata": {},
     "output_type": "execute_result"
    }
   ],
   "source": [
    "df.isnull().sum()"
   ]
  },
  {
   "cell_type": "code",
   "execution_count": 17,
   "id": "1c5abd3a",
   "metadata": {},
   "outputs": [],
   "source": [
    "# As we can see, min for columns 0-1 contain values =< 0 which is strange for width / length indicators\n",
    "# Also these columns conatain nulls (9 for each column)"
   ]
  },
  {
   "cell_type": "code",
   "execution_count": 18,
   "id": "d0e16cde",
   "metadata": {},
   "outputs": [
    {
     "data": {
      "text/plain": [
       "Text(0, 0.5, 'frequency')"
      ]
     },
     "execution_count": 18,
     "metadata": {},
     "output_type": "execute_result"
    },
    {
     "data": {
      "image/png": "[encoded data removed]",
      "text/plain": [
       "<Figure size 640x480 with 1 Axes>"
      ]
     },
     "metadata": {},
     "output_type": "display_data"
    }
   ],
   "source": [
    "import matplotlib.pyplot as plt\n",
    "df['sepal_length'].plot.hist(bins = 50, label = 'sepal_length')\n",
    "plt.xlabel('sepal_length')\n",
    "plt.ylabel('frequency')"
   ]
  },
  {
   "cell_type": "code",
   "execution_count": 19,
   "id": "5d61656c",
   "metadata": {},
   "outputs": [
    {
     "data": {
      "text/plain": [
       "Text(0, 0.5, 'frequency')"
      ]
     },
     "execution_count": 19,
     "metadata": {},
     "output_type": "execute_result"
    },
    {
     "data": {
      "image/png": "[encoded data removed]",
      "text/plain": [
       "<Figure size 640x480 with 1 Axes>"
      ]
     },
     "metadata": {},
     "output_type": "display_data"
    }
   ],
   "source": [
    "df['sepal_width'].plot.hist(bins = 50, label = 'sepal_width')\n",
    "plt.xlabel('sepal_width')\n",
    "plt.ylabel('frequency')"
   ]
  },
  {
   "cell_type": "code",
   "execution_count": 20,
   "id": "1f0fa3ca",
   "metadata": {},
   "outputs": [
    {
     "data": {
      "text/plain": [
       "Text(0, 0.5, 'frequency')"
      ]
     },
     "execution_count": 20,
     "metadata": {},
     "output_type": "execute_result"
    },
    {
     "data": {
      "image/png": "[encoded data removed]",
      "text/plain": [
       "<Figure size 640x480 with 1 Axes>"
      ]
     },
     "metadata": {},
     "output_type": "display_data"
    }
   ],
   "source": [
    "df['petal_length'].plot.hist(bins = 50, label = 'petal_length')\n",
    "plt.xlabel('petal_length')\n",
    "plt.ylabel('frequency')"
   ]
  },
  {
   "cell_type": "code",
   "execution_count": 21,
   "id": "3a2a7aea",
   "metadata": {},
   "outputs": [
    {
     "data": {
      "text/plain": [
       "Text(0, 0.5, 'frequency')"
      ]
     },
     "execution_count": 21,
     "metadata": {},
     "output_type": "execute_result"
    },
    {
     "data": {
      "image/png": "[encoded data removed]",
      "text/plain": [
       "<Figure size 640x480 with 1 Axes>"
      ]
     },
     "metadata": {},
     "output_type": "display_data"
    }
   ],
   "source": [
    "df['petal_width'].plot.hist(bins = 50, label = 'petal_width')\n",
    "plt.xlabel('petal_width')\n",
    "plt.ylabel('frequency')"
   ]
  },
  {
   "cell_type": "code",
   "execution_count": 22,
   "id": "e3e0362d",
   "metadata": {},
   "outputs": [],
   "source": [
    "# According to graphics above, allocation in columns # 0-3 is not normal. I guess it is because of nulls + min for all these columns is <= 0 which is not OK\n",
    "# I believe that it would be better to replace nulls / 0 and below zero values with medians, In my opinion it will help us to fix the DB (in case we cannot request good data)"
   ]
  },
  {
   "cell_type": "code",
   "execution_count": 54,
   "id": "e55f10ec",
   "metadata": {},
   "outputs": [],
   "source": [
    "df0 = df.fillna(df.median(numeric_only = True), axis = 0)"
   ]
  },
  {
   "cell_type": "code",
   "execution_count": 55,
   "id": "9cc04740",
   "metadata": {},
   "outputs": [
    {
     "data": {
      "text/plain": [
       "sepal_length    0\n",
       "sepal_width     0\n",
       "petal_length    0\n",
       "petal_width     0\n",
       "species         0\n",
       "dtype: int64"
      ]
     },
     "execution_count": 55,
     "metadata": {},
     "output_type": "execute_result"
    }
   ],
   "source": [
    "df0.isnull().sum()"
   ]
  },
  {
   "cell_type": "code",
   "execution_count": 56,
   "id": "82d89112",
   "metadata": {},
   "outputs": [],
   "source": [
    "df1 = df0.drop(columns = ['species'])"
   ]
  },
  {
   "cell_type": "code",
   "execution_count": 57,
   "id": "a2470c77",
   "metadata": {},
   "outputs": [
    {
     "data": {
      "text/html": [
       "<div>\n",
       "<style scoped>\n",
       "    .dataframe tbody tr th:only-of-type {\n",
       "        vertical-align: middle;\n",
       "    }\n",
       "\n",
       "    .dataframe tbody tr th {\n",
       "        vertical-align: top;\n",
       "    }\n",
       "\n",
       "    .dataframe thead th {\n",
       "        text-align: right;\n",
       "    }\n",
       "</style>\n",
       "<table border=\"1\" class=\"dataframe\">\n",
       "  <thead>\n",
       "    <tr style=\"text-align: right;\">\n",
       "      <th></th>\n",
       "      <th>sepal_length</th>\n",
       "      <th>sepal_width</th>\n",
       "      <th>petal_length</th>\n",
       "      <th>petal_width</th>\n",
       "    </tr>\n",
       "  </thead>\n",
       "  <tbody>\n",
       "    <tr>\n",
       "      <th>0</th>\n",
       "      <td>6.40</td>\n",
       "      <td>2.70</td>\n",
       "      <td>5.30</td>\n",
       "      <td>1.90</td>\n",
       "    </tr>\n",
       "    <tr>\n",
       "      <th>1</th>\n",
       "      <td>7.38</td>\n",
       "      <td>4.04</td>\n",
       "      <td>5.15</td>\n",
       "      <td>2.37</td>\n",
       "    </tr>\n",
       "    <tr>\n",
       "      <th>2</th>\n",
       "      <td>5.00</td>\n",
       "      <td>3.40</td>\n",
       "      <td>1.60</td>\n",
       "      <td>0.40</td>\n",
       "    </tr>\n",
       "    <tr>\n",
       "      <th>3</th>\n",
       "      <td>6.12</td>\n",
       "      <td>3.19</td>\n",
       "      <td>5.90</td>\n",
       "      <td>2.01</td>\n",
       "    </tr>\n",
       "    <tr>\n",
       "      <th>4</th>\n",
       "      <td>6.78</td>\n",
       "      <td>3.47</td>\n",
       "      <td>6.13</td>\n",
       "      <td>2.29</td>\n",
       "    </tr>\n",
       "  </tbody>\n",
       "</table>\n",
       "</div>"
      ],
      "text/plain": [
       "   sepal_length  sepal_width  petal_length  petal_width\n",
       "0          6.40         2.70          5.30         1.90\n",
       "1          7.38         4.04          5.15         2.37\n",
       "2          5.00         3.40          1.60         0.40\n",
       "3          6.12         3.19          5.90         2.01\n",
       "4          6.78         3.47          6.13         2.29"
      ]
     },
     "execution_count": 57,
     "metadata": {},
     "output_type": "execute_result"
    }
   ],
   "source": [
    "df1.head()"
   ]
  },
  {
   "cell_type": "code",
   "execution_count": 73,
   "id": "d3c2b911",
   "metadata": {},
   "outputs": [],
   "source": [
    "median1_df1 = df1['sepal_length'].median()"
   ]
  },
  {
   "cell_type": "code",
   "execution_count": 74,
   "id": "bf25d589",
   "metadata": {},
   "outputs": [],
   "source": [
    "median2_df1 = df1['sepal_width'].median()"
   ]
  },
  {
   "cell_type": "code",
   "execution_count": 75,
   "id": "edb857df",
   "metadata": {},
   "outputs": [],
   "source": [
    "median3_df1 = df1['petal_length'].median()"
   ]
  },
  {
   "cell_type": "code",
   "execution_count": 76,
   "id": "03390ab0",
   "metadata": {},
   "outputs": [],
   "source": [
    "median4_df1 = df1['petal_width'].median()"
   ]
  },
  {
   "cell_type": "code",
   "execution_count": 80,
   "id": "75fb8d53",
   "metadata": {},
   "outputs": [],
   "source": [
    "df1.loc[df1.sepal_length <= 0, 'sepal_length'] = median1_df1"
   ]
  },
  {
   "cell_type": "code",
   "execution_count": 81,
   "id": "0ec36949",
   "metadata": {},
   "outputs": [],
   "source": [
    "df1.loc[df1.sepal_width <= 0, 'sepal_width'] = median2_df1"
   ]
  },
  {
   "cell_type": "code",
   "execution_count": 82,
   "id": "d8985186",
   "metadata": {},
   "outputs": [],
   "source": [
    "df1.loc[df1.petal_length <= 0, 'petal_length'] = median3_df1"
   ]
  },
  {
   "cell_type": "code",
   "execution_count": 83,
   "id": "57ed4395",
   "metadata": {},
   "outputs": [],
   "source": [
    "df1.loc[df1.petal_width <= 0, 'petal_width'] = median4_df1"
   ]
  },
  {
   "cell_type": "code",
   "execution_count": 84,
   "id": "0306cb3d",
   "metadata": {},
   "outputs": [
    {
     "data": {
      "text/html": [
       "<div>\n",
       "<style scoped>\n",
       "    .dataframe tbody tr th:only-of-type {\n",
       "        vertical-align: middle;\n",
       "    }\n",
       "\n",
       "    .dataframe tbody tr th {\n",
       "        vertical-align: top;\n",
       "    }\n",
       "\n",
       "    .dataframe thead th {\n",
       "        text-align: right;\n",
       "    }\n",
       "</style>\n",
       "<table border=\"1\" class=\"dataframe\">\n",
       "  <thead>\n",
       "    <tr style=\"text-align: right;\">\n",
       "      <th></th>\n",
       "      <th>sepal_length</th>\n",
       "      <th>sepal_width</th>\n",
       "      <th>petal_length</th>\n",
       "      <th>petal_width</th>\n",
       "    </tr>\n",
       "  </thead>\n",
       "  <tbody>\n",
       "    <tr>\n",
       "      <th>count</th>\n",
       "      <td>2424.000000</td>\n",
       "      <td>2424.000000</td>\n",
       "      <td>2424.000000</td>\n",
       "      <td>2424.000000</td>\n",
       "    </tr>\n",
       "    <tr>\n",
       "      <th>mean</th>\n",
       "      <td>6.797042</td>\n",
       "      <td>4.070936</td>\n",
       "      <td>4.755157</td>\n",
       "      <td>2.250004</td>\n",
       "    </tr>\n",
       "    <tr>\n",
       "      <th>std</th>\n",
       "      <td>1.021424</td>\n",
       "      <td>0.780432</td>\n",
       "      <td>1.830166</td>\n",
       "      <td>0.979703</td>\n",
       "    </tr>\n",
       "    <tr>\n",
       "      <th>min</th>\n",
       "      <td>4.300000</td>\n",
       "      <td>2.000000</td>\n",
       "      <td>1.000000</td>\n",
       "      <td>0.100000</td>\n",
       "    </tr>\n",
       "    <tr>\n",
       "      <th>25%</th>\n",
       "      <td>6.077500</td>\n",
       "      <td>3.520000</td>\n",
       "      <td>2.990000</td>\n",
       "      <td>1.540000</td>\n",
       "    </tr>\n",
       "    <tr>\n",
       "      <th>50%</th>\n",
       "      <td>6.700000</td>\n",
       "      <td>4.000000</td>\n",
       "      <td>5.090000</td>\n",
       "      <td>2.240000</td>\n",
       "    </tr>\n",
       "    <tr>\n",
       "      <th>75%</th>\n",
       "      <td>7.490000</td>\n",
       "      <td>4.580000</td>\n",
       "      <td>6.142500</td>\n",
       "      <td>2.940000</td>\n",
       "    </tr>\n",
       "    <tr>\n",
       "      <th>max</th>\n",
       "      <td>10.490000</td>\n",
       "      <td>7.470000</td>\n",
       "      <td>9.040000</td>\n",
       "      <td>5.440000</td>\n",
       "    </tr>\n",
       "  </tbody>\n",
       "</table>\n",
       "</div>"
      ],
      "text/plain": [
       "       sepal_length  sepal_width  petal_length  petal_width\n",
       "count   2424.000000  2424.000000   2424.000000  2424.000000\n",
       "mean       6.797042     4.070936      4.755157     2.250004\n",
       "std        1.021424     0.780432      1.830166     0.979703\n",
       "min        4.300000     2.000000      1.000000     0.100000\n",
       "25%        6.077500     3.520000      2.990000     1.540000\n",
       "50%        6.700000     4.000000      5.090000     2.240000\n",
       "75%        7.490000     4.580000      6.142500     2.940000\n",
       "max       10.490000     7.470000      9.040000     5.440000"
      ]
     },
     "execution_count": 84,
     "metadata": {},
     "output_type": "execute_result"
    }
   ],
   "source": [
    "df1.describe()"
   ]
  },
  {
   "cell_type": "code",
   "execution_count": 86,
   "id": "a9a1d319",
   "metadata": {},
   "outputs": [
    {
     "data": {
      "text/plain": [
       "Text(0, 0.5, 'frequency')"
      ]
     },
     "execution_count": 86,
     "metadata": {},
     "output_type": "execute_result"
    },
    {
     "data": {
      "image/png": "[encoded data removed]",
      "text/plain": [
       "<Figure size 640x480 with 1 Axes>"
      ]
     },
     "metadata": {},
     "output_type": "display_data"
    }
   ],
   "source": [
    "df1['sepal_length'].plot.hist(bins = 50, label = 'sepal_length')\n",
    "plt.xlabel('sepal_length')\n",
    "plt.ylabel('frequency')"
   ]
  },
  {
   "cell_type": "code",
   "execution_count": 87,
   "id": "3295fe5f",
   "metadata": {},
   "outputs": [
    {
     "data": {
      "text/plain": [
       "Text(0, 0.5, 'frequency')"
      ]
     },
     "execution_count": 87,
     "metadata": {},
     "output_type": "execute_result"
    },
    {
     "data": {
      "image/png": "[encoded data removed]",
      "text/plain": [
       "<Figure size 640x480 with 1 Axes>"
      ]
     },
     "metadata": {},
     "output_type": "display_data"
    }
   ],
   "source": [
    "df1['sepal_width'].plot.hist(bins = 50, label = 'sepal_width')\n",
    "plt.xlabel('sepal_width')\n",
    "plt.ylabel('frequency')"
   ]
  },
  {
   "cell_type": "code",
   "execution_count": 90,
   "id": "6e9eb52f",
   "metadata": {},
   "outputs": [
    {
     "data": {
      "text/plain": [
       "Text(0, 0.5, 'frequency')"
      ]
     },
     "execution_count": 90,
     "metadata": {},
     "output_type": "execute_result"
    },
    {
     "data": {
      "image/png": "[encoded data removed]",
      "text/plain": [
       "<Figure size 640x480 with 1 Axes>"
      ]
     },
     "metadata": {},
     "output_type": "display_data"
    }
   ],
   "source": [
    "df1['petal_length'].plot.hist(bins = 50, label = 'petal_length')\n",
    "plt.xlabel('petal_length')\n",
    "plt.ylabel('frequency')"
   ]
  },
  {
   "cell_type": "code",
   "execution_count": 89,
   "id": "1a06470d",
   "metadata": {},
   "outputs": [
    {
     "data": {
      "text/plain": [
       "Text(0, 0.5, 'frequency')"
      ]
     },
     "execution_count": 89,
     "metadata": {},
     "output_type": "execute_result"
    },
    {
     "data": {
      "image/png": "[encoded data removed]",
      "text/plain": [
       "<Figure size 640x480 with 1 Axes>"
      ]
     },
     "metadata": {},
     "output_type": "display_data"
    }
   ],
   "source": [
    "df1['petal_width'].plot.hist(bins = 50, label = 'petal_width')\n",
    "plt.xlabel('petal_width')\n",
    "plt.ylabel('frequency')"
   ]
  },
  {
   "cell_type": "code",
   "execution_count": 92,
   "id": "11a13ffa",
   "metadata": {},
   "outputs": [],
   "source": [
    "# As we can see now, distribution in columns # 0-3 became much better.\n",
    "# But anyway it is far from ideal (assepecially in 'petal_width' column) but it looks \"bell\" shape much better that it was before"
   ]
  },
  {
   "cell_type": "code",
   "execution_count": 93,
   "id": "edac89b1",
   "metadata": {},
   "outputs": [
    {
     "data": {
      "text/html": [
       "<div>\n",
       "<style scoped>\n",
       "    .dataframe tbody tr th:only-of-type {\n",
       "        vertical-align: middle;\n",
       "    }\n",
       "\n",
       "    .dataframe tbody tr th {\n",
       "        vertical-align: top;\n",
       "    }\n",
       "\n",
       "    .dataframe thead th {\n",
       "        text-align: right;\n",
       "    }\n",
       "</style>\n",
       "<table border=\"1\" class=\"dataframe\">\n",
       "  <thead>\n",
       "    <tr style=\"text-align: right;\">\n",
       "      <th></th>\n",
       "      <th>sepal_length</th>\n",
       "      <th>sepal_width</th>\n",
       "      <th>petal_length</th>\n",
       "      <th>petal_width</th>\n",
       "    </tr>\n",
       "  </thead>\n",
       "  <tbody>\n",
       "    <tr>\n",
       "      <th>sepal_length</th>\n",
       "      <td>1.000000</td>\n",
       "      <td>0.292934</td>\n",
       "      <td>0.757407</td>\n",
       "      <td>0.731067</td>\n",
       "    </tr>\n",
       "    <tr>\n",
       "      <th>sepal_width</th>\n",
       "      <td>0.292934</td>\n",
       "      <td>1.000000</td>\n",
       "      <td>-0.011921</td>\n",
       "      <td>0.244492</td>\n",
       "    </tr>\n",
       "    <tr>\n",
       "      <th>petal_length</th>\n",
       "      <td>0.757407</td>\n",
       "      <td>-0.011921</td>\n",
       "      <td>1.000000</td>\n",
       "      <td>0.812569</td>\n",
       "    </tr>\n",
       "    <tr>\n",
       "      <th>petal_width</th>\n",
       "      <td>0.731067</td>\n",
       "      <td>0.244492</td>\n",
       "      <td>0.812569</td>\n",
       "      <td>1.000000</td>\n",
       "    </tr>\n",
       "  </tbody>\n",
       "</table>\n",
       "</div>"
      ],
      "text/plain": [
       "              sepal_length  sepal_width  petal_length  petal_width\n",
       "sepal_length      1.000000     0.292934      0.757407     0.731067\n",
       "sepal_width       0.292934     1.000000     -0.011921     0.244492\n",
       "petal_length      0.757407    -0.011921      1.000000     0.812569\n",
       "petal_width       0.731067     0.244492      0.812569     1.000000"
      ]
     },
     "execution_count": 93,
     "metadata": {},
     "output_type": "execute_result"
    }
   ],
   "source": [
    "df1.corr()"
   ]
  },
  {
   "cell_type": "code",
   "execution_count": 1,
   "id": "1093fee8",
   "metadata": {},
   "outputs": [],
   "source": [
    "# df1.corr() shows us that, for example sepal_length has direct dependency to petal_length (the bigger sepal_length is, the bigger petal_length is). The same situation is VS sepal_width / petal_width\n",
    "# But also we can see that sepal_width has reverce dependency to petal_length (the bigger sepal_length, the smaller petal_length and vice versa)\n",
    "# I believe that bar chart can easily help us see if the distribution is normal or not, that's why I chose this type of visualisation to check\n",
    "# I could have chosen replacimg nulls / 0 and belo zero values with avarages (mean()), but I guess that I wouldn't be 100% great sollution as mean is not always suitable (for example it'can be the same as if we count avarage sallary in EPAM by calculating: (Dobkin's salary + Juniour Accountant's salary)/2\n"
   ]
  },
  {
   "cell_type": "code",
   "execution_count": null,
   "id": "f5d39482",
   "metadata": {},
   "outputs": [],
   "source": []
  },
  {
   "cell_type": "code",
   "execution_count": null,
   "id": "eb0ebfc6",
   "metadata": {},
   "outputs": [],
   "source": []
  },
  {
   "cell_type": "code",
   "execution_count": null,
   "id": "d7751e13",
   "metadata": {},
   "outputs": [],
   "source": []
  }
 ],
 "metadata": {
  "kernelspec": {
   "display_name": "Python 3 (ipykernel)",
   "language": "python",
   "name": "python3"
  },
  "language_info": {
   "codemirror_mode": {
    "name": "ipython",
    "version": 3
   },
   "file_extension": ".py",
   "mimetype": "text/x-python",
   "name": "python",
   "nbconvert_exporter": "python",
   "pygments_lexer": "ipython3",
   "version": "3.10.9"
  }
 },
 "nbformat": 4,
 "nbformat_minor": 5
}
