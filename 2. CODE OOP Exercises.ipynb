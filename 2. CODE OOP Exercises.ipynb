{
 "cells": [
  {
   "cell_type": "code",
   "execution_count": 1,
   "id": "bd683905",
   "metadata": {},
   "outputs": [],
   "source": [
    "# Exercise 1:"
   ]
  },
  {
   "cell_type": "code",
   "execution_count": 2,
   "id": "5f9c727c",
   "metadata": {},
   "outputs": [],
   "source": [
    "class Vehicle:\n",
    "    Vec_type = None\n",
    "    Max_speed = None\n",
    "    Mileage = None\n",
    "    \n",
    "    def set_data (self, Veh_type, Max_speed, Mileage):\n",
    "        self.Veh_type = str(Veh_type)\n",
    "        self.Max_speed = float(Max_speed)\n",
    "        self.Mileage = int(Mileage)\n",
    "        \n",
    "    def get_data (self):\n",
    "        print (\"Vehicle type:\", self.Veh_type, \"; Max speed:\", self.Max_speed, \"; Mileage:\", self.Mileage)\n",
    "        \n",
    "Veh1 = Vehicle()\n",
    "Veh2 = Vehicle()\n",
    "Veh3 = Vehicle()"
   ]
  },
  {
   "cell_type": "code",
   "execution_count": 3,
   "id": "c2c681fb",
   "metadata": {},
   "outputs": [],
   "source": [
    "Veh1.set_data ('Ship', 150.0, 30000)\n",
    "Veh2.set_data ('Air', 320, 10000)\n",
    "Veh3.set_data ('Wheeled', 250, 50000)"
   ]
  },
  {
   "cell_type": "code",
   "execution_count": 4,
   "id": "957c0aa2",
   "metadata": {},
   "outputs": [
    {
     "name": "stdout",
     "output_type": "stream",
     "text": [
      "Vehicle type: Ship ; Max speed: 150.0 ; Mileage: 30000\n",
      "Vehicle type: Air ; Max speed: 320.0 ; Mileage: 10000\n",
      "Vehicle type: Wheeled ; Max speed: 250.0 ; Mileage: 50000\n"
     ]
    }
   ],
   "source": [
    "Veh1.get_data()\n",
    "Veh2.get_data()\n",
    "Veh3.get_data()"
   ]
  },
  {
   "cell_type": "code",
   "execution_count": 5,
   "id": "b8d983d2",
   "metadata": {},
   "outputs": [],
   "source": [
    "# Exercise 2:"
   ]
  },
  {
   "cell_type": "code",
   "execution_count": 6,
   "id": "e61a06ab",
   "metadata": {},
   "outputs": [],
   "source": [
    "class Vehicle:\n",
    "    Vec_type = None\n",
    "    Max_speed = None\n",
    "    Mileage = None\n",
    "    \n",
    "    def __init__(self, Veh_type, Max_speed, Mileage):\n",
    "        self.Veh_type = str(Veh_type)\n",
    "        self.Max_speed = float(Max_speed)\n",
    "        self.Mileage = int(Mileage)\n",
    "        \n",
    "    def get_data (self):\n",
    "        print (\"Vehicle type:\", self.Veh_type, \"; Max speed:\", self.Max_speed, \"; Mileage:\", self.Mileage)\n",
    "                               \n",
    "Veh1 = Vehicle('Ship', 150.0, 30000)\n",
    "Veh2 = Vehicle('Air', 320, 10000)\n",
    "Veh3 = Vehicle('Wheeled', 250, 50000)"
   ]
  },
  {
   "cell_type": "code",
   "execution_count": 7,
   "id": "9624f42a",
   "metadata": {},
   "outputs": [],
   "source": [
    "class Bus(Vehicle):\n",
    "    \n",
    "    Pass_capacity = None\n",
    "    Rent = None\n",
    "    \n",
    "    def __init__(self, Veh_type, Max_speed, Mileage, Pass_capacity, Rent):\n",
    "        super(Bus, self).__init__(Veh_type, Max_speed, Mileage)\n",
    "        self.Pass_capacity = Pass_capacity\n",
    "        self.Rent = Rent\n",
    "        \n",
    "    def get_data(self):\n",
    "        super().get_data()\n",
    "        print('Passenger capacity is:', self.Pass_capacity)\n",
    "        \n",
    "    def square(self):\n",
    "        return ('Passenger capacity **2 =', self.Pass_capacity**2)\n",
    "    \n",
    "    def rent(self):\n",
    "        if self.Pass_capacity > 10:\n",
    "            return ('Rental fee = ', self.Rent + self.Rent * 0.1)\n",
    "        else:\n",
    "            return ('Rental fee = ', self.Rent)\n",
    "        \n",
    "bus = Bus('Wheeled', 200, 1000000, 50, 100)"
   ]
  },
  {
   "cell_type": "code",
   "execution_count": 8,
   "id": "9245f165",
   "metadata": {},
   "outputs": [
    {
     "name": "stdout",
     "output_type": "stream",
     "text": [
      "Vehicle type: Wheeled ; Max speed: 200.0 ; Mileage: 1000000\n",
      "Passenger capacity is: 50\n"
     ]
    }
   ],
   "source": [
    "bus.get_data()"
   ]
  },
  {
   "cell_type": "code",
   "execution_count": 9,
   "id": "e3481e06",
   "metadata": {},
   "outputs": [
    {
     "data": {
      "text/plain": [
       "('Passenger capacity **2 =', 2500)"
      ]
     },
     "execution_count": 9,
     "metadata": {},
     "output_type": "execute_result"
    }
   ],
   "source": [
    "bus.square()"
   ]
  },
  {
   "cell_type": "code",
   "execution_count": 10,
   "id": "fe0e6a03",
   "metadata": {},
   "outputs": [
    {
     "data": {
      "text/plain": [
       "('Rental fee = ', 110.0)"
      ]
     },
     "execution_count": 10,
     "metadata": {},
     "output_type": "execute_result"
    }
   ],
   "source": [
    "bus.rent()"
   ]
  },
  {
   "cell_type": "code",
   "execution_count": 11,
   "id": "22eb77ab",
   "metadata": {},
   "outputs": [],
   "source": [
    "class Auto(Vehicle):\n",
    "    Color = None\n",
    "    \n",
    "    def __init__(self, Veh_type, Max_speed, Mileage, Color):\n",
    "        super(Auto, self).__init__(Veh_type, Max_speed, Mileage)\n",
    "        self.Color = Color\n",
    "        \n",
    "    def get_data(self):\n",
    "        super().get_data()\n",
    "        print('The color of the Auto is:', self.Color)\n",
    "        \n",
    "auto = Auto('Wheeled', 330, 60000, 'White')"
   ]
  },
  {
   "cell_type": "code",
   "execution_count": 12,
   "id": "95669d5b",
   "metadata": {},
   "outputs": [
    {
     "name": "stdout",
     "output_type": "stream",
     "text": [
      "Vehicle type: Wheeled ; Max speed: 330.0 ; Mileage: 60000\n",
      "The color of the Auto is: White\n"
     ]
    }
   ],
   "source": [
    "auto.get_data()"
   ]
  },
  {
   "cell_type": "code",
   "execution_count": 13,
   "id": "dd35a970",
   "metadata": {},
   "outputs": [],
   "source": [
    "# Exercise 3 (version 1):"
   ]
  },
  {
   "cell_type": "code",
   "execution_count": 14,
   "id": "2d90a945",
   "metadata": {},
   "outputs": [],
   "source": [
    "class Vehicle:\n",
    "    Vec_type = None\n",
    "    Max_speed = None\n",
    "    Mileage = None\n",
    "    \n",
    "    def __init__(self, Veh_type, Max_speed, Mileage, Distance):\n",
    "        self.Veh_type = str(Veh_type)\n",
    "        self.Max_speed = float(Max_speed)\n",
    "        self.Mileage = int(Mileage)\n",
    "        self.Distance = int(Distance)\n",
    "        \n",
    "    def get_data (self):\n",
    "        print (\"Vehicle type:\", self.Veh_type, \"; Max speed:\", self.Max_speed, \"; Mileage:\", self.Mileage, \"Distance: \", self.Distance)\n",
    "        \n",
    "    def Drive(self):\n",
    "        return (self.Mileage + self.Distance)\n",
    "                       \n",
    "Veh1 = Vehicle('Ship', 150.0, 30000, 2000)\n",
    "Veh2 = Vehicle('Air', 320, 10000, 1500)\n",
    "Veh3 = Vehicle('Wheeled', 250, 50000, 3200)"
   ]
  },
  {
   "cell_type": "code",
   "execution_count": 15,
   "id": "595a9a63",
   "metadata": {},
   "outputs": [],
   "source": [
    "class Bus(Vehicle):\n",
    "    Pass_capacity = None\n",
    "    Rent = None\n",
    "    \n",
    "    def __init__(self, Veh_type, Max_speed, Mileage, Distance, Pass_capacity, Rent):\n",
    "        super(Bus, self).__init__(Veh_type, Max_speed, Mileage, Distance)\n",
    "        self.Pass_capacity = Pass_capacity\n",
    "        self.Rent = Rent\n",
    "        \n",
    "    def get_data(self):\n",
    "        super().get_data()\n",
    "        print('Passenger capacity is:', self.Pass_capacity)\n",
    "        \n",
    "    def square(self):\n",
    "        return ('Passenger capacity **2 =', self.Pass_capacity**2)\n",
    "    \n",
    "    def rent(self):\n",
    "        if self.Pass_capacity > 10:\n",
    "            return ('Rental fee = ', self.Rent + self.Rent * 0.1)\n",
    "        else:\n",
    "            return ('Rental fee = ', self.Rent)\n",
    "        \n",
    "    def Drive(self):\n",
    "        super().Drive()\n",
    "        return (self.Mileage + self.Distance)\n",
    "\n",
    "        \n",
    "bus = Bus('Wheeled', 200, 1000000, 2300, 50, 100)"
   ]
  },
  {
   "cell_type": "code",
   "execution_count": 16,
   "id": "bdd9c039",
   "metadata": {},
   "outputs": [
    {
     "name": "stdout",
     "output_type": "stream",
     "text": [
      "Vehicle type: Wheeled ; Max speed: 200.0 ; Mileage: 1000000 Distance:  2300\n",
      "Passenger capacity is: 50\n"
     ]
    }
   ],
   "source": [
    "bus.get_data()"
   ]
  },
  {
   "cell_type": "code",
   "execution_count": 17,
   "id": "c4411462",
   "metadata": {},
   "outputs": [
    {
     "data": {
      "text/plain": [
       "('Passenger capacity **2 =', 2500)"
      ]
     },
     "execution_count": 17,
     "metadata": {},
     "output_type": "execute_result"
    }
   ],
   "source": [
    "bus.square()"
   ]
  },
  {
   "cell_type": "code",
   "execution_count": 18,
   "id": "dfa5def8",
   "metadata": {},
   "outputs": [
    {
     "data": {
      "text/plain": [
       "('Rental fee = ', 110.0)"
      ]
     },
     "execution_count": 18,
     "metadata": {},
     "output_type": "execute_result"
    }
   ],
   "source": [
    "bus.rent()"
   ]
  },
  {
   "cell_type": "code",
   "execution_count": 19,
   "id": "5f826514",
   "metadata": {},
   "outputs": [
    {
     "data": {
      "text/plain": [
       "1002300"
      ]
     },
     "execution_count": 19,
     "metadata": {},
     "output_type": "execute_result"
    }
   ],
   "source": [
    "bus.Drive()"
   ]
  },
  {
   "cell_type": "code",
   "execution_count": 20,
   "id": "9fbb8ca5",
   "metadata": {},
   "outputs": [],
   "source": [
    "class Auto(Vehicle):\n",
    "    Color = None\n",
    "    \n",
    "    def __init__(self, Veh_type, Max_speed, Mileage, Distance, Color):\n",
    "        super(Auto, self).__init__(Veh_type, Max_speed, Mileage, Distance)\n",
    "        self.Color = Color\n",
    "        \n",
    "    def get_data(self):\n",
    "        super().get_data()\n",
    "        print('The color of the Auto is:', self.Color)\n",
    "        \n",
    "    def drive(self):\n",
    "        super().Drive\n",
    "        return (self.Mileage + self.Distance)\n",
    "        \n",
    "auto = Auto('Wheeled', 330, 60000, 1500, 'White')"
   ]
  },
  {
   "cell_type": "code",
   "execution_count": 21,
   "id": "74bcc7cc",
   "metadata": {},
   "outputs": [
    {
     "name": "stdout",
     "output_type": "stream",
     "text": [
      "Vehicle type: Wheeled ; Max speed: 330.0 ; Mileage: 60000 Distance:  1500\n",
      "The color of the Auto is: White\n"
     ]
    }
   ],
   "source": [
    "auto.get_data()"
   ]
  },
  {
   "cell_type": "code",
   "execution_count": 22,
   "id": "5fe1fd67",
   "metadata": {},
   "outputs": [
    {
     "data": {
      "text/plain": [
       "61500"
      ]
     },
     "execution_count": 22,
     "metadata": {},
     "output_type": "execute_result"
    }
   ],
   "source": [
    "auto.Drive()"
   ]
  },
  {
   "cell_type": "code",
   "execution_count": 23,
   "id": "423e15ec",
   "metadata": {},
   "outputs": [],
   "source": [
    "# Exercise 3 (version 2):"
   ]
  },
  {
   "cell_type": "code",
   "execution_count": 24,
   "id": "872e06b2",
   "metadata": {},
   "outputs": [],
   "source": [
    "class Vehicle:\n",
    "    Vec_type = None\n",
    "    Max_speed = None\n",
    "    Mileage = None\n",
    "    \n",
    "    def __init__(self, Veh_type, Max_speed, Mileage):\n",
    "        self.Veh_type = str(Veh_type)\n",
    "        self.Max_speed = float(Max_speed)\n",
    "        self.Mileage = int(Mileage)\n",
    "        \n",
    "    def get_data (self):\n",
    "        print (\"Vehicle type:\", self.Veh_type, \"; Max speed:\", self.Max_speed, \"; Mileage:\", self.Mileage)\n",
    "        \n",
    "    def Drive(self):\n",
    "        return int(1500)\n",
    "                       \n",
    "Veh1 = Vehicle('Ship', 150.0, 30000)\n",
    "Veh2 = Vehicle('Air', 320, 10000)\n",
    "Veh3 = Vehicle('Wheeled', 250, 50000)"
   ]
  },
  {
   "cell_type": "code",
   "execution_count": 25,
   "id": "0cd76c2e",
   "metadata": {},
   "outputs": [],
   "source": [
    "class Bus(Vehicle):\n",
    "    Pass_capacity = None\n",
    "    Rent = None\n",
    "    \n",
    "    def __init__(self, Veh_type, Max_speed, Mileage, Pass_capacity, Rent):\n",
    "        super(Bus, self).__init__(Veh_type, Max_speed, Mileage)\n",
    "        self.Pass_capacity = Pass_capacity\n",
    "        self.Rent = Rent\n",
    "        \n",
    "    def get_data(self):\n",
    "        super().get_data()\n",
    "        print('Passenger capacity is:', self.Pass_capacity)\n",
    "        \n",
    "    def square(self):\n",
    "        return ('Passenger capacity **2 =', self.Pass_capacity**2)\n",
    "    \n",
    "    def rent(self):\n",
    "        if self.Pass_capacity > 10:\n",
    "            return ('Rental fee = ', self.Rent + self.Rent * 0.1)\n",
    "        else:\n",
    "            return ('Rental fee = ', self.Rent)\n",
    "        \n",
    "    def drive(self):\n",
    "        super().Drive()\n",
    "        return self.Drive()\n",
    "\n",
    "        \n",
    "bus = Bus('Wheeled', 200, 1000000, 50, 100)"
   ]
  },
  {
   "cell_type": "code",
   "execution_count": 26,
   "id": "c7531399",
   "metadata": {},
   "outputs": [
    {
     "name": "stdout",
     "output_type": "stream",
     "text": [
      "Vehicle type: Wheeled ; Max speed: 200.0 ; Mileage: 1000000\n",
      "Passenger capacity is: 50\n"
     ]
    }
   ],
   "source": [
    "bus.get_data()"
   ]
  },
  {
   "cell_type": "code",
   "execution_count": 27,
   "id": "6454869c",
   "metadata": {},
   "outputs": [
    {
     "data": {
      "text/plain": [
       "('Passenger capacity **2 =', 2500)"
      ]
     },
     "execution_count": 27,
     "metadata": {},
     "output_type": "execute_result"
    }
   ],
   "source": [
    "bus.square()"
   ]
  },
  {
   "cell_type": "code",
   "execution_count": 28,
   "id": "d3092e4b",
   "metadata": {},
   "outputs": [
    {
     "data": {
      "text/plain": [
       "('Rental fee = ', 110.0)"
      ]
     },
     "execution_count": 28,
     "metadata": {},
     "output_type": "execute_result"
    }
   ],
   "source": [
    "bus.rent()"
   ]
  },
  {
   "cell_type": "code",
   "execution_count": 29,
   "id": "76079c38",
   "metadata": {},
   "outputs": [
    {
     "data": {
      "text/plain": [
       "1500"
      ]
     },
     "execution_count": 29,
     "metadata": {},
     "output_type": "execute_result"
    }
   ],
   "source": [
    "bus.Drive()"
   ]
  },
  {
   "cell_type": "code",
   "execution_count": 30,
   "id": "f0163e72",
   "metadata": {},
   "outputs": [],
   "source": [
    "class Auto(Vehicle):\n",
    "    Color = None\n",
    "    \n",
    "    def __init__(self, Veh_type, Max_speed, Mileage, Color):\n",
    "        super(Auto, self).__init__(Veh_type, Max_speed, Mileage)\n",
    "        self.Color = Color\n",
    "        \n",
    "    def get_data(self):\n",
    "        super().get_data()\n",
    "        print('The color of the Auto is:', self.Color)\n",
    "        \n",
    "    def drive(self):\n",
    "        super().Drive\n",
    "        return self.Drive()\n",
    "        \n",
    "auto = Auto('Wheeled', 330, 60000, 'White')"
   ]
  },
  {
   "cell_type": "code",
   "execution_count": 31,
   "id": "8f68b7f4",
   "metadata": {},
   "outputs": [
    {
     "name": "stdout",
     "output_type": "stream",
     "text": [
      "Vehicle type: Wheeled ; Max speed: 330.0 ; Mileage: 60000\n",
      "The color of the Auto is: White\n"
     ]
    }
   ],
   "source": [
    "auto.get_data()"
   ]
  },
  {
   "cell_type": "code",
   "execution_count": 32,
   "id": "d0dda9ef",
   "metadata": {},
   "outputs": [
    {
     "data": {
      "text/plain": [
       "1500"
      ]
     },
     "execution_count": 32,
     "metadata": {},
     "output_type": "execute_result"
    }
   ],
   "source": [
    "auto.Drive()"
   ]
  },
  {
   "cell_type": "code",
   "execution_count": null,
   "id": "4ce557d8",
   "metadata": {},
   "outputs": [],
   "source": []
  },
  {
   "cell_type": "code",
   "execution_count": null,
   "id": "b2891563",
   "metadata": {},
   "outputs": [],
   "source": []
  }
 ],
 "metadata": {
  "kernelspec": {
   "display_name": "Python 3 (ipykernel)",
   "language": "python",
   "name": "python3"
  },
  "language_info": {
   "codemirror_mode": {
    "name": "ipython",
    "version": 3
   },
   "file_extension": ".py",
   "mimetype": "text/x-python",
   "name": "python",
   "nbconvert_exporter": "python",
   "pygments_lexer": "ipython3",
   "version": "3.10.9"
  }
 },
 "nbformat": 4,
 "nbformat_minor": 5
}
