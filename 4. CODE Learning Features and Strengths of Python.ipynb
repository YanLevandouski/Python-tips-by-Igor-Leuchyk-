{
 "cells": [
  {
   "cell_type": "code",
   "execution_count": 2,
   "id": "824b81b1",
   "metadata": {},
   "outputs": [
    {
     "name": "stdout",
     "output_type": "stream",
     "text": [
      "Defaulting to user installation because normal site-packages is not writeable\n",
      "Requirement already satisfied: pandas in c:\\programdata\\anaconda3\\lib\\site-packages (1.5.3)\n",
      "Requirement already satisfied: numpy>=1.21.0 in c:\\programdata\\anaconda3\\lib\\site-packages (from pandas) (1.23.5)\n",
      "Requirement already satisfied: pytz>=2020.1 in c:\\programdata\\anaconda3\\lib\\site-packages (from pandas) (2022.7)\n",
      "Requirement already satisfied: python-dateutil>=2.8.1 in c:\\programdata\\anaconda3\\lib\\site-packages (from pandas) (2.8.2)\n",
      "Requirement already satisfied: six>=1.5 in c:\\programdata\\anaconda3\\lib\\site-packages (from python-dateutil>=2.8.1->pandas) (1.16.0)\n",
      "Note: you may need to restart the kernel to use updated packages.\n"
     ]
    }
   ],
   "source": [
    "pip install pandas"
   ]
  },
  {
   "cell_type": "code",
   "execution_count": 3,
   "id": "12ca683c",
   "metadata": {},
   "outputs": [
    {
     "name": "stdout",
     "output_type": "stream",
     "text": [
      "Defaulting to user installation because normal site-packages is not writeable\n",
      "Requirement already satisfied: numpy in c:\\programdata\\anaconda3\\lib\\site-packages (1.23.5)\n",
      "Note: you may need to restart the kernel to use updated packages.\n"
     ]
    }
   ],
   "source": [
    "pip install numpy"
   ]
  },
  {
   "cell_type": "code",
   "execution_count": 4,
   "id": "055baa53",
   "metadata": {},
   "outputs": [
    {
     "name": "stdout",
     "output_type": "stream",
     "text": [
      "Defaulting to user installation because normal site-packages is not writeable\n",
      "Note: you may need to restart the kernel to use updated packages.\n"
     ]
    },
    {
     "name": "stderr",
     "output_type": "stream",
     "text": [
      "ERROR: Could not find a version that satisfies the requirement math (from versions: none)\n",
      "ERROR: No matching distribution found for math\n"
     ]
    }
   ],
   "source": [
    "pip install math"
   ]
  },
  {
   "cell_type": "code",
   "execution_count": 36,
   "id": "1e095ccb",
   "metadata": {},
   "outputs": [],
   "source": [
    "import math as mth"
   ]
  },
  {
   "cell_type": "code",
   "execution_count": 37,
   "id": "fd5ce9a2",
   "metadata": {},
   "outputs": [],
   "source": [
    "import random as rnd"
   ]
  },
  {
   "cell_type": "code",
   "execution_count": 38,
   "id": "287251c1",
   "metadata": {},
   "outputs": [],
   "source": [
    "import statistics as st"
   ]
  },
  {
   "cell_type": "code",
   "execution_count": 447,
   "id": "b4de7bee",
   "metadata": {},
   "outputs": [
    {
     "data": {
      "text/plain": [
       "[51.156310740856576,\n",
       " 20.705322717911905,\n",
       " 11.93347744064766,\n",
       " 25.62144196992895,\n",
       " 25.24928398327934,\n",
       " 39.184316348312414,\n",
       " 64.08220500261156,\n",
       " 25.67503991614757,\n",
       " 26.715827277710883,\n",
       " 5.925957079799144,\n",
       " 44.40370055900197,\n",
       " 45.25561640685861,\n",
       " 48.4890812773141,\n",
       " 48.93646792205814,\n",
       " 59.86370750806619,\n",
       " 15.091977512212239,\n",
       " 61.12135711407062,\n",
       " 43.500018631372704,\n",
       " 43.71087738387588,\n",
       " 58.785885524920715,\n",
       " 32.03069238738717,\n",
       " 38.15613694008932,\n",
       " 50.00854410710457,\n",
       " 53.407460577643036,\n",
       " 47.06210768942686,\n",
       " 35.995552246816764,\n",
       " 56.15894168588388,\n",
       " 60.61022801403265,\n",
       " 51.7313438813792,\n",
       " 50.13780417987818,\n",
       " 62.975807238240584,\n",
       " 51.815020717399634,\n",
       " 40.05619445102097,\n",
       " 92.23526777641764,\n",
       " 35.93574812227168,\n",
       " 77.20975705658476,\n",
       " 36.31406880011881,\n",
       " 41.38283661459041,\n",
       " 25.021137168281875,\n",
       " 52.53438793552228,\n",
       " 83.39612504891757,\n",
       " 74.89112105755913,\n",
       " 24.028187165295083,\n",
       " 58.12152226491199,\n",
       " 26.62187888397602,\n",
       " 32.72075969875466,\n",
       " 44.080494175685814,\n",
       " 45.885884482444375,\n",
       " 56.5605049406303,\n",
       " 24.53888876458974,\n",
       " 59.89306543630442,\n",
       " 60.37632184941641,\n",
       " 53.935635386661765,\n",
       " 73.41097185772472,\n",
       " 52.94986769797342,\n",
       " 79.91716076901588,\n",
       " 18.836119994404093,\n",
       " 51.35846222282953,\n",
       " 69.8632665054918,\n",
       " 63.161344906694936,\n",
       " 30.440825340397904,\n",
       " 38.73177517864424,\n",
       " 53.22933810009845,\n",
       " 55.60396549637841,\n",
       " 83.21214230570561,\n",
       " 87.01474437271503,\n",
       " 62.179998152433875,\n",
       " 34.22190716429702,\n",
       " 92.66644462077842,\n",
       " 42.40774657891775,\n",
       " 60.19728288604169,\n",
       " 32.67831517836113,\n",
       " 55.031530412822555,\n",
       " 47.34012434184831,\n",
       " 62.24737426241363,\n",
       " 83.72953689979106,\n",
       " 62.26636799501019,\n",
       " 23.776460698189346,\n",
       " 35.040268378611856,\n",
       " 54.19333341158332,\n",
       " 88.87731660891708,\n",
       " 21.78076629985584,\n",
       " 40.938672509105416,\n",
       " 41.67501509702158,\n",
       " 30.767988163609633,\n",
       " 63.42466661777826,\n",
       " 39.692993998114744,\n",
       " 6.6931304076101625,\n",
       " 15.338635644923995,\n",
       " 65.19765598643718,\n",
       " 74.74423166182456,\n",
       " 26.5490596030801,\n",
       " 61.109294712233925,\n",
       " 27.30732701644041,\n",
       " 30.54261162050515,\n",
       " 28.666049539118394,\n",
       " 15.319382962918214,\n",
       " 31.116920327205335,\n",
       " 78.53126345095183,\n",
       " 63.005435817071564]"
      ]
     },
     "execution_count": 447,
     "metadata": {},
     "output_type": "execute_result"
    }
   ],
   "source": [
    "list1 = []\n",
    "for i in range(100):\n",
    "    a = rnd.triangular(1,100)\n",
    "    list1.append(a)\n",
    "list1"
   ]
  },
  {
   "cell_type": "code",
   "execution_count": 448,
   "id": "aa51bb4d",
   "metadata": {},
   "outputs": [
    {
     "name": "stdout",
     "output_type": "stream",
     "text": [
      "list[4758.222392836095]\n"
     ]
    }
   ],
   "source": [
    "a1 = sum(list1)\n",
    "print(list[a1])"
   ]
  },
  {
   "cell_type": "code",
   "execution_count": 449,
   "id": "b6efbad0",
   "metadata": {},
   "outputs": [
    {
     "data": {
      "text/plain": [
       "list[4758.222392836093]"
      ]
     },
     "execution_count": 449,
     "metadata": {},
     "output_type": "execute_result"
    }
   ],
   "source": [
    "a2 = list[mth.fsum(list1)]\n",
    "a2"
   ]
  },
  {
   "cell_type": "code",
   "execution_count": 450,
   "id": "f52cf0ca",
   "metadata": {},
   "outputs": [
    {
     "data": {
      "text/plain": [
       "list[47.582223928360925]"
      ]
     },
     "execution_count": 450,
     "metadata": {},
     "output_type": "execute_result"
    }
   ],
   "source": [
    "b1 = list [st.mean(list1)]\n",
    "b1"
   ]
  }
 ],
 "metadata": {
  "kernelspec": {
   "display_name": "Python 3 (ipykernel)",
   "language": "python",
   "name": "python3"
  },
  "language_info": {
   "codemirror_mode": {
    "name": "ipython",
    "version": 3
   },
   "file_extension": ".py",
   "mimetype": "text/x-python",
   "name": "python",
   "nbconvert_exporter": "python",
   "pygments_lexer": "ipython3",
   "version": "3.10.9"
  }
 },
 "nbformat": 4,
 "nbformat_minor": 5
}
