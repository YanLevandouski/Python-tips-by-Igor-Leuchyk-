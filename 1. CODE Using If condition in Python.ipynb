{
 "cells": [
  {
   "cell_type": "code",
   "execution_count": 5,
   "id": "ec8b03a4",
   "metadata": {},
   "outputs": [],
   "source": [
    "# Exercise 1:"
   ]
  },
  {
   "cell_type": "code",
   "execution_count": 6,
   "id": "6fb32268",
   "metadata": {},
   "outputs": [
    {
     "name": "stdout",
     "output_type": "stream",
     "text": [
      "Enter your 1st number: 3343\n",
      "Enter your 2nd number: 12977.9\n",
      "The sum of a and b is:  16320.9\n"
     ]
    }
   ],
   "source": [
    "a = input ('Enter your 1st number: ')\n",
    "b = input ('Enter your 2nd number: ')\n",
    "if '.' in a and '.' in b:\n",
    "        print (\"The sum of a and b is: \", float(a) + float (b))\n",
    "if '.' in a and '.' not in b:\n",
    "        print (\"The sum of a and b is: \", float(a) + float (b))\n",
    "if '.' not in a and '.' in b:\n",
    "        print (\"The sum of a and b is: \", float(a) + float (b))\n",
    "if '.' not in a and '.' not in b:\n",
    "        print (\"The sum of a and b is: \", int (a) + int (b))"
   ]
  },
  {
   "cell_type": "code",
   "execution_count": 7,
   "id": "e393e1df",
   "metadata": {},
   "outputs": [],
   "source": [
    "# Exercise 2:"
   ]
  },
  {
   "cell_type": "code",
   "execution_count": 8,
   "id": "0c9a68ce",
   "metadata": {},
   "outputs": [
    {
     "name": "stdout",
     "output_type": "stream",
     "text": [
      "Enter your temperature: 445\n",
      "Enter your unit (C - for Celsius; F - for Fahrenheit): F\n",
      "Temperature in Fahrenheit =  445.0  will be =  229.44444444444446  in Celsius.\n"
     ]
    }
   ],
   "source": [
    "temp = float (input ('Enter your temperature: '))\n",
    "measure = input ('Enter your unit (C - for Celsius; F - for Fahrenheit): ')\n",
    "if measure == 'C':\n",
    "    print (\"Temperature in Celsius = \", temp, \" will be = \", (temp * 9/5) + 32, \" in Fahrenheit.\")\n",
    "if measure == 'F':\n",
    "        print (\"Temperature in Fahrenheit = \", temp, \" will be = \", (temp - 32) * 5/9, \" in Celsius.\")"
   ]
  },
  {
   "cell_type": "code",
   "execution_count": null,
   "id": "66220a95",
   "metadata": {},
   "outputs": [],
   "source": []
  },
  {
   "cell_type": "code",
   "execution_count": null,
   "id": "472aa87c",
   "metadata": {},
   "outputs": [],
   "source": []
  }
 ],
 "metadata": {
  "kernelspec": {
   "display_name": "Python 3 (ipykernel)",
   "language": "python",
   "name": "python3"
  },
  "language_info": {
   "codemirror_mode": {
    "name": "ipython",
    "version": 3
   },
   "file_extension": ".py",
   "mimetype": "text/x-python",
   "name": "python",
   "nbconvert_exporter": "python",
   "pygments_lexer": "ipython3",
   "version": "3.10.9"
  }
 },
 "nbformat": 4,
 "nbformat_minor": 5
}
